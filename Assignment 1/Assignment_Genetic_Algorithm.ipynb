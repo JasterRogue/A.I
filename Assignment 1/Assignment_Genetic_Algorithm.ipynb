{
  "nbformat": 4,
  "nbformat_minor": 0,
  "metadata": {
    "colab": {
      "name": "Assignment_Genetic_Algorithm.ipynb",
      "provenance": [],
      "collapsed_sections": []
    },
    "kernelspec": {
      "name": "python3",
      "display_name": "Python 3"
    }
  },
  "cells": [
    {
      "cell_type": "code",
      "metadata": {
        "id": "egs3BQEGihS5"
      },
      "source": [
        "# imports here\r\n",
        "#Treasure code is all below\r\n",
        "\r\n",
        "import numpy as np\r\n",
        "import random\r\n",
        "from copy import deepcopy"
      ],
      "execution_count": null,
      "outputs": []
    },
    {
      "cell_type": "markdown",
      "metadata": {
        "id": "5r8LRJvJrdgO"
      },
      "source": [
        "TNumber: T00200799\r\n",
        "\r\n",
        "Name: Ryan Madigan\r\n",
        "\r\n",
        "Adjust the genetic algorithm to select the optimal treasure to take home...\r\n",
        "\r\n",
        "You must maximise the value of the items selected subject to the following conditions\r\n",
        "\r\n",
        "*   You must choose between 10 and 50 items (inclusive both ends)\r\n",
        "*   Max Total Length   <= 240\r\n",
        "*   Max Total Weight <= 300\r\n",
        "\r\n",
        "Requires an answer for the seed 1969.\r\n",
        "\r\n",
        "And an answer with a seed of their t number.\r\n",
        "\r\n",
        "Results can be found at the bottom along with their parameters. The first block of results are for the 1969 seed. The second block are the resuts for the tnumber seed (200799)"
      ]
    },
    {
      "cell_type": "code",
      "metadata": {
        "id": "rWUlCTaT3Y34"
      },
      "source": [
        "class treasure_item:\r\n",
        "  value = 0\r\n",
        "  length = 0\r\n",
        "  weight = 0\r\n",
        "  def __init__(self, max_value,max_length, max_weight,min_value = 0, min_length = 1, min_weight = 1):\r\n",
        "    self.value = np.random.randint(min_value,max_value)\r\n",
        "    self.length = np.random.randint(min_length,max_length)\r\n",
        "    self.weight = np.random.randint(min_weight,max_weight)\r\n",
        "\r\n",
        "  def display(self):\r\n",
        "    print(\"Item Value \"+ str(self.value) + \" length \" + str(self.length) + \" weight \" + str(self.weight))"
      ],
      "execution_count": null,
      "outputs": []
    },
    {
      "cell_type": "code",
      "metadata": {
        "id": "zUtegGux3ZSI"
      },
      "source": [
        "#This class generates treasure of random value, weight and length \r\n",
        "class treasure_hoard:\r\n",
        "  item_count = 0\r\n",
        "  items = []\r\n",
        "  def __init__(self,total_item_count, seed):\r\n",
        "    np.random.seed = seed\r\n",
        "    self.max_value = np.random.randint(50,100)\r\n",
        "    self.min_value = np.random.randint(0,3)\r\n",
        "    self.max_length = np.random.randint(3,10)\r\n",
        "    self.min_length = np.random.randint(1,3)\r\n",
        "    self.max_weight = np.random.randint(3,20)\r\n",
        "    self.min_weight = np.random.randint(1,3)\r\n",
        "\r\n",
        "    for _ in range(total_item_count):\r\n",
        "      self.items.append(treasure_item(self.max_value,self.max_length,self.max_weight,min_value=self.min_value, min_length= self.min_length, min_weight=self.min_weight))"
      ],
      "execution_count": null,
      "outputs": []
    },
    {
      "cell_type": "code",
      "metadata": {
        "id": "Ixq93gvSHLqX"
      },
      "source": [
        "def rand_bit():\r\n",
        "  if np.random.randint(2):\r\n",
        "    return 0\r\n",
        "  else:\r\n",
        "    return 1"
      ],
      "execution_count": null,
      "outputs": []
    },
    {
      "cell_type": "code",
      "metadata": {
        "id": "88kWrhZv3aIC",
        "colab": {
          "base_uri": "https://localhost:8080/"
        },
        "outputId": "f90ee427-e0aa-4826-9c22-f420e772baff"
      },
      "source": [
        "pip install bitstring"
      ],
      "execution_count": null,
      "outputs": [
        {
          "output_type": "stream",
          "text": [
            "Requirement already satisfied: bitstring in /usr/local/lib/python3.6/dist-packages (3.1.7)\n"
          ],
          "name": "stdout"
        }
      ]
    },
    {
      "cell_type": "code",
      "metadata": {
        "id": "h97aej2L3aPp"
      },
      "source": [
        "#Imports bitstring packages \r\n",
        "from bitstring import BitStream, BitArray"
      ],
      "execution_count": null,
      "outputs": []
    },
    {
      "cell_type": "code",
      "metadata": {
        "id": "tSVl_Tx-3aoq"
      },
      "source": [
        "#Creates a bitarray and fills it with 1000 zeroes \r\n",
        "b = BitArray(bin = '0'*1000)"
      ],
      "execution_count": null,
      "outputs": []
    },
    {
      "cell_type": "code",
      "metadata": {
        "id": "d-Jqe8ph3awh"
      },
      "source": [
        "for _ in range(np.random.randint(0, 51)):\r\n",
        "  b[np.random.randint(1000)] = True"
      ],
      "execution_count": null,
      "outputs": []
    },
    {
      "cell_type": "markdown",
      "metadata": {
        "id": "KgazGa7v78aN"
      },
      "source": [
        "All genetic algorithm code is below this cell"
      ]
    },
    {
      "cell_type": "code",
      "metadata": {
        "id": "sMYAplQEtOnL"
      },
      "source": [
        "def value_in_knapsack(individual, treasure):\r\n",
        "  total = 0\r\n",
        "  for i in range(len(individual)):\r\n",
        "    if individual[i]:\r\n",
        "      total += treasure.items[i].value\r\n",
        "  return total"
      ],
      "execution_count": null,
      "outputs": []
    },
    {
      "cell_type": "code",
      "metadata": {
        "id": "DCNiAbXelhBb"
      },
      "source": [
        "def length_in_knapsack(individual, treasure):\r\n",
        "  totalLength = 0\r\n",
        "  for i in range(len(individual)):\r\n",
        "    if individual[i]:\r\n",
        "      totalLength += treasure.items[i].length\r\n",
        "  return totalLength"
      ],
      "execution_count": null,
      "outputs": []
    },
    {
      "cell_type": "code",
      "metadata": {
        "id": "zgXMx0WnlhEt"
      },
      "source": [
        "def weight_in_knapsack(individual, treasure):\r\n",
        "  totalWeight = 0\r\n",
        "  for i in range(len(individual)):\r\n",
        "    if individual[i]:\r\n",
        "      totalWeight += treasure.items[i].weight\r\n",
        "  return totalWeight"
      ],
      "execution_count": null,
      "outputs": []
    },
    {
      "cell_type": "code",
      "metadata": {
        "id": "ZJZ8QgJtsz2x"
      },
      "source": [
        "def total_items_in_knapsack(treasureTaken):\r\n",
        "  total_number_of_items = 0\r\n",
        "  for i in range(len(treasureTaken)):\r\n",
        "    if treasureTaken[i]:\r\n",
        "      total_number_of_items += 1\r\n",
        "  return total_number_of_items"
      ],
      "execution_count": null,
      "outputs": []
    },
    {
      "cell_type": "code",
      "metadata": {
        "id": "yV-l06q7vkm_"
      },
      "source": [
        "#This method find the 'fitness' of the items that were taken \r\n",
        "def fitness_function(individual, treasure):\r\n",
        "  max_length = 240\r\n",
        "  max_weight = 300\r\n",
        "  \r\n",
        "  total_value = value_in_knapsack(individual, treasure)\r\n",
        "  total_length = length_in_knapsack(individual, treasure)\r\n",
        "  total_weight = weight_in_knapsack(individual, treasure)\r\n",
        "  total_number_of_items = total_items_in_knapsack(individual)\r\n",
        "\r\n",
        "  lengthOverMax = total_length - max_length\r\n",
        "  weightOverMax = total_weight - max_weight\r\n",
        "  numItemsOverMax = total_number_of_items - 50\r\n",
        "  numItemsUnderMin = 10 - total_number_of_items \r\n",
        "\r\n",
        "  if (total_length <= max_length) and (total_weight <= max_weight) and (10 <= total_number_of_items <= 50) :\r\n",
        "    return total_value\r\n",
        "  else: \r\n",
        "    invalid_items = 0\r\n",
        "    length = 0\r\n",
        "    weight = 0\r\n",
        "\r\n",
        "    if lengthOverMax > 0:\r\n",
        "      length = lengthOverMax\r\n",
        "\r\n",
        "    if weightOverMax > 0:\r\n",
        "      weight = weightOverMax\r\n",
        "\r\n",
        "    if numItemsOverMax > 0:\r\n",
        "      invalid_items = numItemsOverMax\r\n",
        "\r\n",
        "    elif numItemsUnderMin > 0:\r\n",
        "      invalid_items = numItemsUnderMin\r\n",
        "\r\n",
        "    fitness = (length + weight + invalid_items) * -1\r\n",
        "    return fitness\r\n",
        "  "
      ],
      "execution_count": null,
      "outputs": []
    },
    {
      "cell_type": "markdown",
      "metadata": {
        "id": "PnV2rIU7leYI"
      },
      "source": [
        "Initially, if an item was invalid, it would return a 0. This would then cause the algorithm to return nothing but 0's. To counter this, I modified the fitness function to deal with invalid individuals by adding up the value, length, weight and returning it. When the algorithm is run, initially the values will start off invalid and will eventually become valid as the algorithm continues. "
      ]
    },
    {
      "cell_type": "code",
      "metadata": {
        "id": "sPG1gmbDwkYZ"
      },
      "source": [
        "#Calculates the value of the treasure left behind\r\n",
        "def value_left_behind(individual, treasure):\r\n",
        "  return 5000 - fitness_function(individual, treasure)\r\n"
      ],
      "execution_count": null,
      "outputs": []
    },
    {
      "cell_type": "code",
      "metadata": {
        "id": "GrWJAQGhm2uS"
      },
      "source": [
        "# Problem to be defined here as a class (or struct)\r\n",
        "class problem:\r\n",
        "\r\n",
        "  # Constructor\r\n",
        "  def __init__(self, treasure):\r\n",
        "    # Cost Function\r\n",
        "    self.cost_function = value_left_behind\r\n",
        "\r\n",
        "    # number of genes in chromosone\r\n",
        "    self.number_of_genes = len(treasure.items)\r\n",
        "    self.min_items = 10\r\n",
        "    self.max_items = 50\r\n",
        "    self.max_length = 240\r\n",
        "    self.max_weight = 300"
      ],
      "execution_count": null,
      "outputs": []
    },
    {
      "cell_type": "markdown",
      "metadata": {
        "id": "ltfLxZF4h-f9"
      },
      "source": [
        "The problem class has been modified to fit with the knapsack problem in this assignment. "
      ]
    },
    {
      "cell_type": "code",
      "metadata": {
        "id": "vEIVhaijKtoj"
      },
      "source": [
        "class parameters():\r\n",
        "  def __init__(self):\r\n",
        "\r\n",
        "    self.number_in_population = 200\r\n",
        "    self.number_of_iterations = 300\r\n",
        "    # Child rate is the proportion of new children relative to the population\r\n",
        "    self.child_rate = 1\r\n",
        "    self.number_of_children = self.number_in_population * self.child_rate\r\n",
        "\r\n",
        "    #Crossover exploration Rate\r\n",
        "    self.explore_rate = 0.2\r\n",
        "\r\n",
        "    #Mutation parameters\r\n",
        "    self.mutation_rate = 0.1"
      ],
      "execution_count": null,
      "outputs": []
    },
    {
      "cell_type": "markdown",
      "metadata": {
        "id": "BB9-b2lrqsIH"
      },
      "source": [
        "The mutation range and explore exploit have been removed as they are not needed for this problem "
      ]
    },
    {
      "cell_type": "code",
      "metadata": {
        "id": "Jf1NbYwIBwEZ"
      },
      "source": [
        "# individual\r\n",
        "class individual():\r\n",
        "  # Genotype or Chromosone\r\n",
        "  chromosone = None\r\n",
        "\r\n",
        "  # Cost\r\n",
        "  cost = 0\r\n",
        "\r\n",
        "  #Constructor\r\n",
        "\r\n",
        "  def __init__(self, problem = None, treasure = None):\r\n",
        "    self.chromosone = []\r\n",
        "    if problem is not None:\r\n",
        "      for i in range(problem.number_of_genes):\r\n",
        "        self.chromosone.append(rand_bit())\r\n",
        "      self.cost = problem.cost_function(self.chromosone, treasure)\r\n",
        "\r\n",
        "  def crossover(self,other_parent,explore_rate):\r\n",
        "      child1 = deepcopy(self)\r\n",
        "      child2 = deepcopy(other_parent)\r\n",
        "\r\n",
        "      cut_off_point = np.random.randint(0, len(self.chromosone))\r\n",
        "      child1.chromosone = self.chromosone[:cut_off_point] + other_parent.chromosone[cut_off_point:]\r\n",
        "      child2.chromosone = other_parent.chromosone[:cut_off_point] + self.chromosone[cut_off_point:]\r\n",
        "\r\n",
        "      return child1, child2\r\n",
        "\r\n",
        "  def mutate(self, mutation_rate):\r\n",
        "    for i in range(len(self.chromosone)):\r\n",
        "      if np.random.rand()<mutation_rate:\r\n",
        "        if self.chromosone[i]:\r\n",
        "          self.chromosone[i] = not self.chromosone[i]"
      ],
      "execution_count": null,
      "outputs": []
    },
    {
      "cell_type": "markdown",
      "metadata": {
        "id": "jKVAqOuBr6nP"
      },
      "source": [
        "The individual class is almost the same as before but the crossover method has been modified since this prolbem is not working with numbers like before. "
      ]
    },
    {
      "cell_type": "code",
      "metadata": {
        "id": "MIN7fsMAnj3k"
      },
      "source": [
        "#This method selects two parents through the use of the tournament selection \r\n",
        "def choose_distinct_pair_from_tournament(number_in_pop):\r\n",
        "  index1 = tournamentSelection(number_in_pop, 10, population)\r\n",
        "  index2 = tournamentSelection(number_in_pop, 10, population)\r\n",
        "  if index1 == index2:\r\n",
        "    return tournamentSelection(number_in_pop, 10)\r\n",
        "  else:\r\n",
        "    return index1,index2\r\n",
        "\r\n"
      ],
      "execution_count": null,
      "outputs": []
    },
    {
      "cell_type": "code",
      "metadata": {
        "id": "fwhh9BLfNAmQ"
      },
      "source": [
        "#This method chooses two random parents from the population\r\n",
        "def choose_distinct_pair_from_random(number_in_pop, population):\r\n",
        "  index1 = np.random.randint(number_in_pop)\r\n",
        "  index2 = np.random.randint(number_in_pop)\r\n",
        "  if index1 == index2:\r\n",
        "    return choose_distinct_pair_from_random(number_in_pop)\r\n",
        "  else:\r\n",
        "    return index1, index2"
      ],
      "execution_count": null,
      "outputs": []
    },
    {
      "cell_type": "code",
      "metadata": {
        "id": "CUYZi-wfNT60"
      },
      "source": [
        "#This method carries out a tournament. It selects a random number of individuals from the population and then selects \r\n",
        "#the best individual through tournament selection\r\n",
        "def tournamentSelection(numInPopulation, k, population):\r\n",
        "  best = None\r\n",
        "  for i in range(k):\r\n",
        "    num = np.random.randint(1, numInPopulation)\r\n",
        "    ind = population[np.random.randint(1, numInPopulation)]\r\n",
        "    if best == None or fitness_function(ind, treasure) > fitness_function(best, treasure):\r\n",
        "      best = ind\r\n",
        "  return best[0]"
      ],
      "execution_count": null,
      "outputs": []
    },
    {
      "cell_type": "markdown",
      "metadata": {
        "id": "Nd_dancep_jp"
      },
      "source": [
        "This was my attempt at coding the tournament selection for choosing parents. The code is based off some pseudo code I found at : https://cstheory.stackexchange.com/questions/14758/tournament-selection-in-genetic-algorithms\r\n",
        "Using this over random parent selection would most likely yield better results but I could not get it to work properly and could not use it. "
      ]
    },
    {
      "cell_type": "code",
      "metadata": {
        "id": "vUGtHrqOLOs4"
      },
      "source": [
        "def run_genetic( problem, parameters, treasure):\r\n",
        "  # read problem\r\n",
        "  cost_function = problem.cost_function\r\n",
        "\r\n",
        "  #read parameters\r\n",
        "  number_in_population = parameters.number_in_population\r\n",
        "  number_of_iterations = parameters.number_of_iterations\r\n",
        "  number_of_children = parameters.number_of_children\r\n",
        "  crossover_explore_rate = parameters.explore_rate\r\n",
        "  mutation_rate  = parameters.mutation_rate\r\n",
        "  #placeholder for best individual\r\n",
        "  \r\n",
        "  best_solution = deepcopy(individual())\r\n",
        "  best_solution.cost = np.infty\r\n",
        "\r\n",
        "  population = []\r\n",
        "  for i in range(number_in_population):\r\n",
        "    new_individual = individual(problem, treasure)\r\n",
        "    population.append(new_individual)\r\n",
        "    if new_individual.cost < best_solution.cost:\r\n",
        "      best_solution = deepcopy(new_individual)\r\n",
        "\r\n",
        "  print(population[0].cost)\r\n",
        "\r\n",
        "\r\n",
        "# Main Loop\r\n",
        "  for iteration in range(number_of_iterations):\r\n",
        "    children = []\r\n",
        "    # Generate children\r\n",
        "    while len(children) < number_of_children:\r\n",
        "    \r\n",
        "        # select parents\r\n",
        "        parent1_index, parent2_index = choose_distinct_pair_from_random(number_in_population)\r\n",
        "        parent1 = population[parent1_index]\r\n",
        "        parent2 = population[parent2_index]\r\n",
        "\r\n",
        "        # crossover\r\n",
        "        child1, child2 = parent1.crossover(parent2,crossover_explore_rate)\r\n",
        "        # mutate\r\n",
        "        child1.mutate(mutation_rate)\r\n",
        "        child2.mutate(mutation_rate)\r\n",
        "        child1.cost = cost_function(child1.chromosone, treasure)\r\n",
        "        child2.cost = cost_function(child2.chromosone, treasure)\r\n",
        "\r\n",
        "        children.append(child1)\r\n",
        "        children.append(child2)\r\n",
        "        \r\n",
        "\r\n",
        "    # Add children to population\r\n",
        "    population += children\r\n",
        "\r\n",
        "    # sort/reduce population to correct level\r\n",
        "    population = sorted(population, key = lambda x:x.cost)\r\n",
        "\r\n",
        "    if population[0].cost < best_solution.cost:\r\n",
        "      best_solution = deepcopy(population[0])\r\n",
        "\r\n",
        "    print(\"Value Left Behind \" + str(best_solution.cost))\r\n",
        "\r\n",
        "  return best_solution \r\n",
        "    "
      ],
      "execution_count": null,
      "outputs": []
    },
    {
      "cell_type": "markdown",
      "metadata": {
        "id": "IOmLHo8VsRaI"
      },
      "source": [
        "The run_genetic() method is very much the same except for removing a few unused parameters and making slight changes to the method calls as the treasure had to be passed in. \r\n",
        "\r\n",
        "The method returns the best value, the best value is determined by leaving as little value behind as possible. As the method runs, the value left behind decreases gradually. "
      ]
    },
    {
      "cell_type": "code",
      "metadata": {
        "id": "3a1znf9IB4UY"
      },
      "source": [
        "#Treasure is the name given to the treasure generated from the 1969 seed. \r\n",
        "treasure = treasure_hoard(1000,200799)\r\n",
        "prob = problem(treasure)\r\n",
        "para = parameters()"
      ],
      "execution_count": null,
      "outputs": []
    },
    {
      "cell_type": "code",
      "metadata": {
        "id": "9K48G7R0IRZg",
        "colab": {
          "base_uri": "https://localhost:8080/"
        },
        "outputId": "8a187ce7-5348-41ad-ae09-4ca09c3cc348"
      },
      "source": [
        "p = run_genetic(prob,para, treasure)"
      ],
      "execution_count": null,
      "outputs": [
        {
          "output_type": "stream",
          "text": [
            "53633\n",
            "Value Left Behind 46984\n",
            "Value Left Behind 42590\n",
            "Value Left Behind 38608\n",
            "Value Left Behind 35619\n",
            "Value Left Behind 32150\n",
            "Value Left Behind 29113\n",
            "Value Left Behind 26433\n",
            "Value Left Behind 24524\n",
            "Value Left Behind 22286\n",
            "Value Left Behind 20582\n",
            "Value Left Behind 19024\n",
            "Value Left Behind 17381\n",
            "Value Left Behind 16098\n",
            "Value Left Behind 15037\n",
            "Value Left Behind 13904\n",
            "Value Left Behind 12944\n",
            "Value Left Behind 11863\n",
            "Value Left Behind 11088\n",
            "Value Left Behind 10392\n",
            "Value Left Behind 9586\n",
            "Value Left Behind 9224\n",
            "Value Left Behind 8725\n",
            "Value Left Behind 8245\n",
            "Value Left Behind 7867\n",
            "Value Left Behind 7533\n",
            "Value Left Behind 7162\n",
            "Value Left Behind 6894\n",
            "Value Left Behind 6557\n",
            "Value Left Behind 6291\n",
            "Value Left Behind 6055\n",
            "Value Left Behind 5805\n",
            "Value Left Behind 5684\n",
            "Value Left Behind 5553\n",
            "Value Left Behind 5438\n",
            "Value Left Behind 5328\n",
            "Value Left Behind 5208\n",
            "Value Left Behind 5085\n",
            "Value Left Behind 5017\n",
            "Value Left Behind 5008\n",
            "Value Left Behind 5002\n",
            "Value Left Behind 2839\n",
            "Value Left Behind 2748\n",
            "Value Left Behind 2748\n",
            "Value Left Behind 2748\n",
            "Value Left Behind 2748\n",
            "Value Left Behind 2748\n",
            "Value Left Behind 2713\n",
            "Value Left Behind 2713\n",
            "Value Left Behind 2713\n",
            "Value Left Behind 2713\n",
            "Value Left Behind 2713\n",
            "Value Left Behind 2703\n",
            "Value Left Behind 2703\n",
            "Value Left Behind 2619\n",
            "Value Left Behind 2619\n",
            "Value Left Behind 2619\n",
            "Value Left Behind 2499\n",
            "Value Left Behind 2499\n",
            "Value Left Behind 2499\n",
            "Value Left Behind 2499\n",
            "Value Left Behind 2499\n",
            "Value Left Behind 2499\n",
            "Value Left Behind 2499\n",
            "Value Left Behind 2499\n",
            "Value Left Behind 2499\n",
            "Value Left Behind 2499\n",
            "Value Left Behind 2499\n",
            "Value Left Behind 2499\n",
            "Value Left Behind 2499\n",
            "Value Left Behind 2499\n",
            "Value Left Behind 2459\n",
            "Value Left Behind 2459\n",
            "Value Left Behind 2421\n",
            "Value Left Behind 2392\n",
            "Value Left Behind 2392\n",
            "Value Left Behind 2392\n",
            "Value Left Behind 2390\n",
            "Value Left Behind 2303\n",
            "Value Left Behind 2303\n",
            "Value Left Behind 2303\n",
            "Value Left Behind 2303\n",
            "Value Left Behind 2303\n",
            "Value Left Behind 2303\n",
            "Value Left Behind 2303\n",
            "Value Left Behind 2271\n",
            "Value Left Behind 2271\n",
            "Value Left Behind 2271\n",
            "Value Left Behind 2271\n",
            "Value Left Behind 2239\n",
            "Value Left Behind 2239\n",
            "Value Left Behind 2239\n",
            "Value Left Behind 2239\n",
            "Value Left Behind 2239\n",
            "Value Left Behind 2228\n",
            "Value Left Behind 2228\n",
            "Value Left Behind 2228\n",
            "Value Left Behind 2228\n",
            "Value Left Behind 2228\n",
            "Value Left Behind 2228\n",
            "Value Left Behind 2167\n",
            "Value Left Behind 2167\n",
            "Value Left Behind 2167\n",
            "Value Left Behind 2167\n",
            "Value Left Behind 2167\n",
            "Value Left Behind 2167\n",
            "Value Left Behind 2167\n",
            "Value Left Behind 2167\n",
            "Value Left Behind 2135\n",
            "Value Left Behind 2135\n",
            "Value Left Behind 2135\n",
            "Value Left Behind 2135\n",
            "Value Left Behind 2135\n",
            "Value Left Behind 2135\n",
            "Value Left Behind 2135\n",
            "Value Left Behind 2119\n",
            "Value Left Behind 2119\n",
            "Value Left Behind 2119\n",
            "Value Left Behind 2119\n",
            "Value Left Behind 2119\n",
            "Value Left Behind 2115\n",
            "Value Left Behind 2115\n",
            "Value Left Behind 2115\n",
            "Value Left Behind 2059\n",
            "Value Left Behind 2059\n",
            "Value Left Behind 2059\n",
            "Value Left Behind 2059\n",
            "Value Left Behind 2059\n",
            "Value Left Behind 2059\n",
            "Value Left Behind 2059\n",
            "Value Left Behind 2059\n",
            "Value Left Behind 2059\n",
            "Value Left Behind 2059\n",
            "Value Left Behind 2011\n",
            "Value Left Behind 2011\n",
            "Value Left Behind 2011\n",
            "Value Left Behind 2011\n",
            "Value Left Behind 2011\n",
            "Value Left Behind 2011\n",
            "Value Left Behind 2011\n",
            "Value Left Behind 2011\n",
            "Value Left Behind 2011\n",
            "Value Left Behind 2011\n",
            "Value Left Behind 2011\n",
            "Value Left Behind 2011\n",
            "Value Left Behind 2011\n",
            "Value Left Behind 2011\n",
            "Value Left Behind 1950\n",
            "Value Left Behind 1950\n",
            "Value Left Behind 1950\n",
            "Value Left Behind 1950\n",
            "Value Left Behind 1950\n",
            "Value Left Behind 1950\n",
            "Value Left Behind 1938\n",
            "Value Left Behind 1938\n",
            "Value Left Behind 1938\n",
            "Value Left Behind 1938\n",
            "Value Left Behind 1938\n",
            "Value Left Behind 1938\n",
            "Value Left Behind 1938\n",
            "Value Left Behind 1938\n",
            "Value Left Behind 1938\n",
            "Value Left Behind 1938\n",
            "Value Left Behind 1915\n",
            "Value Left Behind 1915\n",
            "Value Left Behind 1915\n",
            "Value Left Behind 1915\n",
            "Value Left Behind 1915\n",
            "Value Left Behind 1915\n",
            "Value Left Behind 1915\n",
            "Value Left Behind 1915\n",
            "Value Left Behind 1915\n",
            "Value Left Behind 1915\n",
            "Value Left Behind 1915\n",
            "Value Left Behind 1904\n",
            "Value Left Behind 1904\n",
            "Value Left Behind 1904\n",
            "Value Left Behind 1904\n",
            "Value Left Behind 1904\n",
            "Value Left Behind 1890\n",
            "Value Left Behind 1890\n",
            "Value Left Behind 1890\n",
            "Value Left Behind 1890\n",
            "Value Left Behind 1890\n",
            "Value Left Behind 1850\n",
            "Value Left Behind 1850\n",
            "Value Left Behind 1850\n",
            "Value Left Behind 1850\n",
            "Value Left Behind 1850\n",
            "Value Left Behind 1850\n",
            "Value Left Behind 1850\n",
            "Value Left Behind 1850\n",
            "Value Left Behind 1850\n",
            "Value Left Behind 1760\n",
            "Value Left Behind 1760\n",
            "Value Left Behind 1760\n",
            "Value Left Behind 1760\n",
            "Value Left Behind 1760\n",
            "Value Left Behind 1760\n",
            "Value Left Behind 1760\n",
            "Value Left Behind 1760\n",
            "Value Left Behind 1760\n",
            "Value Left Behind 1760\n",
            "Value Left Behind 1760\n",
            "Value Left Behind 1760\n",
            "Value Left Behind 1760\n",
            "Value Left Behind 1760\n",
            "Value Left Behind 1760\n",
            "Value Left Behind 1760\n",
            "Value Left Behind 1760\n",
            "Value Left Behind 1760\n",
            "Value Left Behind 1760\n",
            "Value Left Behind 1760\n",
            "Value Left Behind 1760\n",
            "Value Left Behind 1760\n",
            "Value Left Behind 1760\n",
            "Value Left Behind 1760\n",
            "Value Left Behind 1760\n",
            "Value Left Behind 1760\n",
            "Value Left Behind 1760\n",
            "Value Left Behind 1760\n",
            "Value Left Behind 1760\n",
            "Value Left Behind 1760\n",
            "Value Left Behind 1748\n",
            "Value Left Behind 1748\n",
            "Value Left Behind 1748\n",
            "Value Left Behind 1748\n",
            "Value Left Behind 1748\n",
            "Value Left Behind 1748\n",
            "Value Left Behind 1746\n",
            "Value Left Behind 1741\n",
            "Value Left Behind 1741\n",
            "Value Left Behind 1652\n",
            "Value Left Behind 1652\n",
            "Value Left Behind 1652\n",
            "Value Left Behind 1652\n",
            "Value Left Behind 1652\n",
            "Value Left Behind 1652\n",
            "Value Left Behind 1652\n",
            "Value Left Behind 1652\n",
            "Value Left Behind 1652\n",
            "Value Left Behind 1652\n",
            "Value Left Behind 1652\n",
            "Value Left Behind 1652\n",
            "Value Left Behind 1652\n",
            "Value Left Behind 1652\n",
            "Value Left Behind 1652\n",
            "Value Left Behind 1652\n",
            "Value Left Behind 1652\n",
            "Value Left Behind 1652\n",
            "Value Left Behind 1652\n",
            "Value Left Behind 1652\n",
            "Value Left Behind 1652\n",
            "Value Left Behind 1652\n",
            "Value Left Behind 1652\n",
            "Value Left Behind 1652\n",
            "Value Left Behind 1652\n",
            "Value Left Behind 1652\n",
            "Value Left Behind 1652\n",
            "Value Left Behind 1652\n",
            "Value Left Behind 1652\n",
            "Value Left Behind 1652\n",
            "Value Left Behind 1652\n",
            "Value Left Behind 1652\n",
            "Value Left Behind 1652\n",
            "Value Left Behind 1652\n",
            "Value Left Behind 1652\n",
            "Value Left Behind 1652\n",
            "Value Left Behind 1652\n",
            "Value Left Behind 1652\n",
            "Value Left Behind 1652\n",
            "Value Left Behind 1652\n",
            "Value Left Behind 1652\n",
            "Value Left Behind 1652\n",
            "Value Left Behind 1634\n",
            "Value Left Behind 1634\n",
            "Value Left Behind 1634\n",
            "Value Left Behind 1634\n",
            "Value Left Behind 1634\n",
            "Value Left Behind 1634\n",
            "Value Left Behind 1634\n",
            "Value Left Behind 1634\n",
            "Value Left Behind 1634\n",
            "Value Left Behind 1623\n",
            "Value Left Behind 1623\n",
            "Value Left Behind 1623\n",
            "Value Left Behind 1623\n",
            "Value Left Behind 1623\n",
            "Value Left Behind 1623\n",
            "Value Left Behind 1623\n",
            "Value Left Behind 1623\n",
            "Value Left Behind 1623\n",
            "Value Left Behind 1623\n",
            "Value Left Behind 1623\n",
            "Value Left Behind 1623\n",
            "Value Left Behind 1623\n",
            "Value Left Behind 1623\n",
            "Value Left Behind 1582\n",
            "Value Left Behind 1582\n",
            "Value Left Behind 1582\n",
            "Value Left Behind 1582\n"
          ],
          "name": "stdout"
        }
      ]
    },
    {
      "cell_type": "markdown",
      "metadata": {
        "id": "IOk7Ri1Jod1G"
      },
      "source": [
        "--------------------------------------------------------------------------------\r\n",
        "1969 Seed Results\r\n",
        "\r\n",
        "1st Successful run of algorithm \r\n",
        "For the first successful run of the algorithm, the value left behind went from **11286** to **3401**. This was with the following paramters. \r\n",
        "\r\n",
        "*   Population = 100\r\n",
        "*   Iterations = 100\r\n",
        "*   Treasure Hoard = 1000\r\n",
        "*   Parent Selection = Random Selection\r\n",
        "*   Mutation Rate = 0.1\r\n",
        "\r\n",
        "2nd Successful run of algorithm \r\n",
        "For the first successful run of the algorithm, the value left behind went from **9881** to **2774**. This was with the following paramters. \r\n",
        "This time the results improved without making any changes to the parameters below.  \r\n",
        "\r\n",
        "*   Population = 100\r\n",
        "*   Iterations = 100\r\n",
        "*   Treasure Hoard = 1000\r\n",
        "*   Parent Selection = Random Selection\r\n",
        "*   Mutation Rate = 0.1\r\n",
        "\r\n",
        "3rd Successful run of algorithm \r\n",
        "For the first successful run of the algorithm, the value left behind went from **16729** to **2655**. This was with the following paramters. \r\n",
        "This time the population was increased to 500 and there was a slight improvement over the previous run.   \r\n",
        "\r\n",
        "*   Population = 500\r\n",
        "*   Iterations = 100\r\n",
        "*   Treasure Hoard = 1000\r\n",
        "*   Parent Selection = Random Selection\r\n",
        "*   Mutation Rate = 0.1\r\n",
        "\r\n",
        "4th Successful run of algorithm \r\n",
        "For the first successful run of the algorithm, the value left behind went from **20502** to **1887**. This was with the following paramters. \r\n",
        "The number of iterations was increased to 200 and by simply doing this the there was a large improvement in comparison to the 3rd run of the algorithm. \r\n",
        "\r\n",
        "*   Population = 500\r\n",
        "*   Iterations = 200\r\n",
        "*   Treasure Hoard = 1000\r\n",
        "*   Parent Selection = Random Selection\r\n",
        "*   Mutation Rate = 0.1\r\n",
        "\r\n",
        "5th Successful run of algorithm \r\n",
        "For the first successful run of the algorithm, the value left behind went from **25517** to **2481**. This was with the following paramters. \r\n",
        "This time the mutation rate was changed to 0.2 but yielded no improvement over the previous result. \r\n",
        "\r\n",
        "*   Population = 500\r\n",
        "*   Iterations = 200\r\n",
        "*   Treasure Hoard = 1000\r\n",
        "*   Parent Selection = Random Selection\r\n",
        "*   Mutation Rate = 0.2\r\n",
        "\r\n",
        "6th Successful run of algorithm \r\n",
        "For the first successful run of the algorithm, the value left behind went from **29225** to **2108**. This was with the following paramters. \r\n",
        "I thought that by increasing the iterations it would lead to better results but there was no improvement. The best solution improved very slowly after a certain point.\r\n",
        "\r\n",
        "*   Population = 500\r\n",
        "*   Iterations = 500\r\n",
        "*   Treasure Hoard = 1000\r\n",
        "*   Parent Selection = Random Selection\r\n",
        "*   Mutation Rate = 0.2\r\n",
        "\r\n",
        "In order to get better results, then it would be best to implement a different method of parent selection. These runs only use random selection. Results would most likely improve if using the roulette wheel or tournament selection. I made an attempt at implementing tournament selection but could not get it to work and had to revert back to random parent selection\r\n",
        "\r\n",
        "7th Successful run of algorithm \r\n",
        "For the first successful run of the algorithm, the value left behind went from **34420** to **1961**. This was with the following paramters. \r\n",
        "For this I decided to change the population back to 100, the mutation rate back to 0.1. This yielded better results but not as good as a previous run. It seems that a lower mutation rate works better and that the number of iterations has a bit of influence on the results. \r\n",
        "\r\n",
        "*   Population = 100\r\n",
        "*   Iterations = 200\r\n",
        "*   Treasure Hoard = 1000\r\n",
        "*   Parent Selection = Random Selection\r\n",
        "*   Mutation Rate = 0.1\r\n",
        "\r\n",
        "8th Successful run of algorithm \r\n",
        "For the first successful run of the algorithm, the value left behind went from **39580** to **1940**. This was with the following paramters. \r\n",
        "This time I changed the iterations to 150 and got a slight improvement over the 7th run but not enough to beat the 4th run\r\n",
        "*   Population = 100\r\n",
        "*   Iterations = 150\r\n",
        "*   Treasure Hoard = 1000\r\n",
        "*   Parent Selection = Random Selection\r\n",
        "*   Mutation Rate = 0.1\r\n"
      ]
    },
    {
      "cell_type": "markdown",
      "metadata": {
        "id": "cIp4nTlkof0X"
      },
      "source": [
        "--------------------------------------------------------------------------------\r\n",
        "TNumber (200799) Seed Results \r\n",
        "\r\n",
        "1st Successful run of algorithm using T Number seed. For the first successful run of the algorithm, the value left behind went from **37763** to **2196**. This was with the following paramters.\r\n",
        "\r\n",
        "\r\n",
        "*   Population = 100\r\n",
        "*   Iterations = 100\r\n",
        "*   Treasure Hoard = 1000\r\n",
        "*   Parent Selection = Random Selection\r\n",
        "*   Mutation Rate = 0.1\r\n",
        "\r\n",
        "2nd Successful run of algorithm using T Number seed. For the first successful run of the algorithm, the value left behind went from **42823** to **2348**. This was with the following paramters. I made no changes to parameters. Unfortuantely there was no improvement over the previous run. Next run onwards I will begin making changes to parameters based on what I learned from the results from the 1969 seed. \r\n",
        "\r\n",
        "*   Population = 100\r\n",
        "*   Iterations = 100\r\n",
        "*   Treasure Hoard = 1000\r\n",
        "*   Parent Selection = Random Selection\r\n",
        "*   Mutation Rate = 0.1\r\n",
        "\r\n",
        "3rd Successful run of algorithm using T Number seed. For the first successful run of the algorithm, the value left behind went from **46319** to **1620**. This was with the following paramters. This time I increased both the population and iterations to 200 and this yielded my best results yet. With a value left behind of **1620**. \r\n",
        "\r\n",
        "*   Population = 200\r\n",
        "*   Iterations = 200\r\n",
        "*   Treasure Hoard = 1000\r\n",
        "*   Parent Selection = Random Selection\r\n",
        "*   Mutation Rate = 0.1\r\n",
        "\r\n",
        "4th Successful run of algorithm using T Number seed. For the first successful run of the algorithm, the value left behind went from **53633** to **1582**. This was with the following paramters. For this run I increased the iterations to 300 and was able to get a slight improvement over the previous run. Increasing iteratios doesn't guarantee an improvement as the improvements start to slow down a lot while running the algorithm. To get a really good improvement it would be necessary to change the parent selection. If I were able to get the tournament selection to work then it would guarantee picking the best indiviudal out of the random selection. As it is now it is vey luck based since there is no control over parent selection. \r\n",
        "\r\n",
        "*   Population = 200\r\n",
        "*   Iterations = 300\r\n",
        "*   Treasure Hoard = 1000\r\n",
        "*   Parent Selection = Random Selection\r\n",
        "*   Mutation Rate = 0.1\r\n",
        "\r\n",
        "\r\n",
        "\r\n",
        "\r\n",
        "\r\n",
        "\r\n",
        "\r\n",
        "\r\n"
      ]
    },
    {
      "cell_type": "code",
      "metadata": {
        "id": "xdd4ELkcojpy"
      },
      "source": [
        ""
      ],
      "execution_count": null,
      "outputs": []
    }
  ]
}