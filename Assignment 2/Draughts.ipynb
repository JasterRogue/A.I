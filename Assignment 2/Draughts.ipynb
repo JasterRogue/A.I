{
  "nbformat": 4,
  "nbformat_minor": 0,
  "metadata": {
    "colab": {
      "name": "Draughts.ipynb",
      "provenance": [],
      "collapsed_sections": []
    },
    "kernelspec": {
      "name": "python3",
      "display_name": "Python 3"
    }
  },
  "cells": [
    {
      "cell_type": "code",
      "metadata": {
        "id": "fEq7oxTOF4xm"
      },
      "source": [
        "class CurrentBoard:\r\n",
        "  def __init__(self,setup_of_board = \"         \"):\r\n",
        "      self.board = setup_of_board\r\n",
        "      self.state = self.state_of_play()\r\n",
        "\r\n",
        "  def display_board(self, game_display = False):\r\n",
        "    \r\n",
        "    if game_display:\r\n",
        "      ind =0\r\n",
        "      c = ''\r\n",
        "      for char in self.board:\r\n",
        "          if char == \" \":\r\n",
        "            c+=str(ind)\r\n",
        "            \r\n",
        "          else:\r\n",
        "            c+=char\r\n",
        "          ind+=1\r\n",
        "    else:\r\n",
        "      c = self.board\r\n",
        "    \r\n",
        "\r\n",
        "    \r\n",
        "    print(\"{}|{}|{}\".format(c[0], c[1],c[2]))\r\n",
        "    print(\"-----\")\r\n",
        "    print(\"{}|{}|{}\".format(c[3], c[4],c[5]))\r\n",
        "    print(\"-----\")\r\n",
        "    print(\"{}|{}|{}\".format(c[6], c[7],c[8]))\r\n",
        "\r\n",
        "  def all_possible_moves_for(self, _this):  # all_possile_moves_for(\"X\")\r\n",
        "    all_boards = []\r\n",
        "    for i in range(len(self.board)):\r\n",
        "      if self.board[i] == \" \":   \r\n",
        "        all_boards.append(CurrentBoard( self.board[:i] + _this + self.board[i+1:]))\r\n",
        "\r\n",
        "    return all_boards\r\n",
        "\r\n",
        "\r\n",
        "  def equal3(self, a,b,c):\r\n",
        "    return (a==b) and (a==c)\r\n",
        "\r\n",
        "  def state_of_play(self):\r\n",
        "\r\n",
        "    #012\r\n",
        "    #345\r\n",
        "    #678\r\n",
        "    if self.equal3(self.board[0],self.board[1],self.board[2] ) or self.equal3(self.board[0],self.board[3],self.board[6] ) or self.equal3(self.board[0],self.board[4],self.board[8] ):\r\n",
        "      if self.board[0] != \" \":\r\n",
        "        return self.board[0]\r\n",
        "\r\n",
        "    if self.equal3(self.board[3],self.board[4],self.board[5]  ) or  self.equal3(self.board[4],self.board[1],self.board[7] ) or self.equal3(self.board[4],self.board[6],self.board[2] ):\r\n",
        "      if self.board[4] != \" \":\r\n",
        "        return self.board[4]\r\n",
        "\r\n",
        "    if self.equal3(self.board[6],self.board[7],self.board[8]  ) or  self.equal3(self.board[2],self.board[5],self.board[8] ) :\r\n",
        "      if self.board[8] != \" \":\r\n",
        "        return self.board[8]  \r\n",
        "      \r\n",
        "\r\n",
        "    if \" \" in self.board:\r\n",
        "      return \"U\"\r\n",
        "\r\n",
        "    return \"D\"\r\n",
        "\r\n",
        "    \r\n",
        "  \r\n",
        "\r\n",
        "\r\n",
        "\r\n",
        "\r\n",
        "\r\n",
        "\r\n",
        "  \r\n",
        "\r\n"
      ],
      "execution_count": 13,
      "outputs": []
    },
    {
      "cell_type": "code",
      "metadata": {
        "id": "LshAvrO6RtQ7"
      },
      "source": [
        "class Search_Tree_Node:\r\n",
        "  def __init__(self, game , playing_char, ply = 0):\r\n",
        "    self.children =[]\r\n",
        "    self.ply_depth = ply\r\n",
        "    self.value_is_assigned = False\r\n",
        "    self.value = 999\r\n",
        "    self.board_for_node = game\r\n",
        "    self.playing = playing_char\r\n",
        "    if self.board_for_node.state == \"U\":\r\n",
        "      self.generate_children()\r\n",
        "    else:\r\n",
        "      if self.board_for_node.state == \"D\":\r\n",
        "        self.value = 0\r\n",
        "      else: \r\n",
        "        if (self.ply_depth % 2) ==0:\r\n",
        "          self.value = -1\r\n",
        "        else:\r\n",
        "          self.value = 1\r\n",
        "      self.value_is_assigned = True\r\n",
        "      \r\n",
        "\r\n",
        "\r\n",
        "\r\n",
        "  def max_min_value(self):\r\n",
        "    # if no value is assigned we will assign the max(or min) of the value of the children\r\n",
        "\r\n",
        "    if  self.value_is_assigned:\r\n",
        "        return self.value\r\n",
        "\r\n",
        "    else: \r\n",
        "      self.children = sorted(self.children, key= lambda x: x.max_min_value() )\r\n",
        "\r\n",
        "      if (self.ply_depth % 2) == 0:\r\n",
        "        self.value = self.children[-1].value\r\n",
        "      else:\r\n",
        "        self.value = self.children[0].value\r\n",
        "    return self.value\r\n",
        "\r\n",
        "\r\n",
        "  def other_char(self,current):\r\n",
        "    if current == \"X\":\r\n",
        "      return \"O\"\r\n",
        "    if current == \"O\":\r\n",
        "      return \"X\"\r\n",
        "    return \" \"\r\n",
        "\r\n",
        "  def generate_children(self):\r\n",
        "    for next_move in self.board_for_node.all_possible_moves_for(self.playing):\r\n",
        "      self.children.append(Search_Tree_Node(next_move, self.other_char(self.playing), self.ply_depth + 1))\r\n",
        "\r\n"
      ],
      "execution_count": 14,
      "outputs": []
    },
    {
      "cell_type": "code",
      "metadata": {
        "id": "My8wBnW6HdZm"
      },
      "source": [
        "s = Search_Tree_Node(currentBoard(), \"X\")"
      ],
      "execution_count": null,
      "outputs": []
    },
    {
      "cell_type": "code",
      "metadata": {
        "colab": {
          "base_uri": "https://localhost:8080/"
        },
        "id": "Jna0c_QkIbvf",
        "outputId": "b13bfbc2-a570-4d48-8f5c-13036b347c6b"
      },
      "source": [
        "s.children[-1].boardForNode.displayBoard()"
      ],
      "execution_count": null,
      "outputs": [
        {
          "output_type": "stream",
          "text": [
            " | | \n",
            "-------\n",
            " | | \n",
            "-------\n",
            " | |X\n"
          ],
          "name": "stdout"
        }
      ]
    },
    {
      "cell_type": "code",
      "metadata": {
        "id": "v_6Gu4_sNxf6"
      },
      "source": [
        "all = b.allPossibleMoves(\"O\")"
      ],
      "execution_count": null,
      "outputs": []
    },
    {
      "cell_type": "code",
      "metadata": {
        "colab": {
          "base_uri": "https://localhost:8080/"
        },
        "id": "wRVQn7vNOBCC",
        "outputId": "20922f40-98bf-4775-f008-ccc64e4f2451"
      },
      "source": [
        "all[4].displayBoard()"
      ],
      "execution_count": null,
      "outputs": [
        {
          "output_type": "stream",
          "text": [
            " | | \n",
            "-------\n",
            " |O| \n",
            "-------\n",
            " | | \n"
          ],
          "name": "stdout"
        }
      ]
    },
    {
      "cell_type": "code",
      "metadata": {
        "id": "PqeEuHFhL5A9"
      },
      "source": [
        "s = \"XO  XX O"
      ],
      "execution_count": null,
      "outputs": []
    },
    {
      "cell_type": "code",
      "metadata": {
        "id": "U8FSZMHMMwjz"
      },
      "source": [
        "def run_game():\r\n",
        "  current_game = CurrentBoard()\r\n",
        "  #  Ask player do they want to move first?\r\n",
        "  choice = input(\"Do you want to go first y/n?\")\r\n",
        "  player_going_first = (choice == \"y\") or (choice == \"Y\")\r\n",
        "\r\n",
        "  player_this_turn = player_going_first\r\n",
        "\r\n",
        "\r\n",
        "  #  Do you want X or O?\r\n",
        "\r\n",
        "  choice = input(\"Do you want to play X's  y/n?\")\r\n",
        "  player_playing_X = (choice == \"y\") or (choice == \"Y\")\r\n",
        "  if player_playing_X:\r\n",
        "    player_playing = \"X\"\r\n",
        "    computer_playing = \"O\"\r\n",
        "  else:\r\n",
        "    player_playing = \"O\"\r\n",
        "    computer_playing = \"X\"\r\n",
        "  #  Loop\r\n",
        "  for i in range(9):\r\n",
        "\r\n",
        "   # Display Current board (for player input)  \r\n",
        "    current_game.display_board(game_display = True)\r\n",
        "    if player_this_turn:\r\n",
        "      print(\" \")\r\n",
        "      player_move = input(\"Choose your move --\")\r\n",
        "      index_of_player_move = int(player_move)\r\n",
        "\r\n",
        "\r\n",
        "      new_board_string = current_game.board[:index_of_player_move] + player_playing + current_game.board[index_of_player_move+1:]\r\n",
        "      current_game= CurrentBoard(new_board_string)\r\n",
        "    else:\r\n",
        "      print(\" \")\r\n",
        "      st = Search_Tree_Node(current_game,computer_playing)\r\n",
        "      print(st.max_min_value())\r\n",
        "      current_game =  st.children[-1].board_for_node\r\n",
        "\r\n",
        "    player_this_turn = not  player_this_turn\r\n",
        "\r\n",
        "    if current_game.state !=\"U\":\r\n",
        "      if current_game.state == \"D\":\r\n",
        "        print(\"I cant believe it you drew with me!!!\")\r\n",
        "      elif computer_playing == current_game.state:\r\n",
        "        print(\" I win too easy !!!\")\r\n",
        "      else:\r\n",
        "        print(\"The world is coming to an end!!!\")\r\n",
        "      current_game.display_board()\r\n",
        "      break\r\n",
        "   \r\n",
        "  \r\n"
      ],
      "execution_count": 17,
      "outputs": []
    },
    {
      "cell_type": "code",
      "metadata": {
        "colab": {
          "base_uri": "https://localhost:8080/"
        },
        "id": "N1VJXGhPQg70",
        "outputId": "4b7a1aae-9c52-4a65-970b-5a97c3469cfa"
      },
      "source": [
        "run_game()"
      ],
      "execution_count": 18,
      "outputs": [
        {
          "output_type": "stream",
          "text": [
            "Do you want to go first y/n?y\n",
            "Do you want to play X's  y/n?y\n",
            "0|1|2\n",
            "-----\n",
            "3|4|5\n",
            "-----\n",
            "6|7|8\n",
            " \n",
            "Choose your move --0\n",
            "X|1|2\n",
            "-----\n",
            "3|4|5\n",
            "-----\n",
            "6|7|8\n",
            " \n",
            "0\n",
            "X|1|2\n",
            "-----\n",
            "3|O|5\n",
            "-----\n",
            "6|7|8\n",
            " \n",
            "Choose your move --6\n",
            "X|1|2\n",
            "-----\n",
            "3|O|5\n",
            "-----\n",
            "X|7|8\n",
            " \n",
            "0\n",
            "X|1|2\n",
            "-----\n",
            "O|O|5\n",
            "-----\n",
            "X|7|8\n",
            " \n",
            "Choose your move --5\n",
            "X|1|2\n",
            "-----\n",
            "O|O|X\n",
            "-----\n",
            "X|7|8\n",
            " \n",
            "0\n",
            "X|1|2\n",
            "-----\n",
            "O|O|X\n",
            "-----\n",
            "X|7|O\n",
            " \n",
            "Choose your move --2\n",
            "X|1|X\n",
            "-----\n",
            "O|O|X\n",
            "-----\n",
            "X|7|O\n",
            " \n",
            "0\n",
            "X|O|X\n",
            "-----\n",
            "O|O|X\n",
            "-----\n",
            "X|7|O\n",
            " \n",
            "Choose your move --7\n",
            "I cant believe it you drew with me!!!\n",
            "X|O|X\n",
            "-----\n",
            "O|O|X\n",
            "-----\n",
            "X|X|O\n"
          ],
          "name": "stdout"
        }
      ]
    },
    {
      "cell_type": "code",
      "metadata": {
        "id": "t73vaN5STFRG"
      },
      "source": [
        ""
      ],
      "execution_count": null,
      "outputs": []
    }
  ]
}