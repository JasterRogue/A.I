{
  "nbformat": 4,
  "nbformat_minor": 0,
  "metadata": {
    "colab": {
      "name": "Draughts.ipynb",
      "provenance": []
    },
    "kernelspec": {
      "name": "python3",
      "display_name": "Python 3"
    }
  },
  "cells": [
    {
      "cell_type": "code",
      "metadata": {
        "id": "WUf-Pe0z4MKH"
      },
      "source": [
        "class CurrentBoard:\n",
        "  def __init__(self,setup_of_board = ['wwww','wwww','wwww','    ','    ','bbbb','bbbb','bbbb']):\n",
        "      self.board = setup_of_board\n",
        "      #self.state = self.state_of_play()\n",
        "\n",
        "  def display_board(self):\n",
        "  \n",
        "    print(\"-----------------\")\n",
        "    for row in range(8):\n",
        "      c = self.board[row]\n",
        "      if (row % 2) == 0:\n",
        "        print(\"| |{}| |{}| |{}| |{}|\".format(c[0],c[1],c[2],c[3]))\n",
        "      else:\n",
        "        print(\"|{}| |{}| |{}| |{}| |\".format(c[0],c[1],c[2],c[3]))\n",
        "      print(\"-----------------\")\n",
        "\n",
        "  def all_possible_moves_for_position(self, position, inc):\n",
        "    # inc = 1 for white, inc = -1 for black, inc = 0 for king\n",
        "    # return a list of all possible positions reachable in 1 move from position\n",
        "    all_moves = []\n",
        "\n",
        "    if inc == 0:\n",
        "      return self.all_possible_moves_for_position(position, -1) + self.all_possible_moves_for_position(position,1)\n",
        "\n",
        "    start_row = position[0]\n",
        "    start_i = position[1]\n",
        "\n",
        "    new_row = start_row + inc\n",
        "    if (new_row >= 0) and (new_row < 8):\n",
        "      all_moves.append((new_row,start_i))\n",
        "      if (start_row % 2) == 0:\n",
        "        if (start_i < 3):\n",
        "          all_moves.append((new_row,start_i+1))\n",
        "      else:\n",
        "        if (start_i > 0):\n",
        "          all_moves.append((new_row,start_i-1))\n",
        "\n",
        "    return all_moves\n",
        "\n",
        "  def playing_as(self,piece):\n",
        "    if piece == 'W':\n",
        "      return 'w'\n",
        "    if piece == 'B':\n",
        "      return 'b'\n",
        "    else:\n",
        "      return piece\n",
        "\n",
        "  def all_possible_moves_for(self, _this):  # all moves for \"w\" or \"b\"\n",
        "    all_boards = []\n",
        "    \n",
        "    for row in range(8):\n",
        "      for i in range(4):\n",
        "        if self.playing_as(self.board[row][i]) == _this:\n",
        "          inc = 0\n",
        "          if self.board[row][i] == _this:\n",
        "            if _this == 'w':\n",
        "              inc = 1\n",
        "            else:\n",
        "              inc = -1\n",
        "          all_boards += self.construct_boards_for((row,i) , self.all_possible_moves_for_position((row,i),inc))\n",
        "\n",
        "    return all_boards\n",
        "\n",
        "\n",
        "  def get_piece_at(self, position):\n",
        "    return self.board[position[0]][position[1]]\n",
        "\n",
        "  def row_for(self,position):\n",
        "    return position[0]\n",
        "\n",
        "  def i_for(self,position):\n",
        "    return position[1]\n",
        "\n",
        "  def jump_to(self, from_position, over_position):\n",
        "    row_dir = self.row_for(over_position) - self.row_for(from_position)\n",
        "    new_row = self.row_for(over_position) + row_dir\n",
        "    if (new_row < 0) or (new_row > 7):\n",
        "      return None\n",
        "    if (new_row % 2) == 0:\n",
        "      if (self.i_for(from_position) == self.i_for(over_position)):\n",
        "        new_i = self.i_for(from_position) - 1\n",
        "      else:\n",
        "        new_i = self.i_for(from_position) + 1\n",
        "    else:\n",
        "      if (self.i_for(from_position) == self.i_for(over_position)):\n",
        "        new_i = self.i_for(from_position) + 1\n",
        "      else:\n",
        "        new_i = self.i_for(from_position) - 1\n",
        "    if (new_i >= 0) and (new_i < 4):\n",
        "      return (new_row, new_i)\n",
        "\n",
        "  def all_kills(Self, start_position, current_position, kill_list):\n",
        "    all_kills = self.get_adjacent_kills(current_position, kill_list)\n",
        "    all_completed_moves = []\n",
        "\n",
        "    if (all_kills_from_here == []):\n",
        "      if (kill_list == []):\n",
        "        return\n",
        "      else:\n",
        "        return [self.board_for(start_position, current_position, kill_list)]\n",
        "    \n",
        "    for kill in all_kills_from_here:\n",
        "      all_completed_moves.append += self.all_kills(start_position, self.jump_to(current_position, kill), kill_list + [kill])\n",
        "\n",
        "    return all_completed_moves\n",
        "\n",
        "  def get_adjacent_kills(self, position, kill_list, piece):\n",
        "    inc = 0\n",
        "    if self.board[row][i] == _this:\n",
        "      if _this == 'w':\n",
        "        inc = 1\n",
        "      else:\n",
        "        inc = -1\n",
        "    \n",
        "    kills = []\n",
        "    all_adjacent_squares = self.all_possible_moves_for_position(position, inc)\n",
        "\n",
        "    for square in all_adjacent_squares:\n",
        "      if self.is_opponent_of(piece, get_piece_at(square)):\n",
        "        if self.get_piece_at(self.jump_to(position, square)) == ' ':\n",
        "          kill.append(square)\n",
        "\n",
        "    return kills\n",
        "\n",
        "  def is_opponent_of(self, piece1, piece2):\n",
        "    return (self.playing_as(piece1) != self.playing_as(piece2)) and (piece1 != ' ') and (piece2 != ' ')\n",
        "\n",
        "\n",
        "  def move_piece_to(self, from_position, to_position):\n",
        "    board_def = []\n",
        "    piece = self.get_piece_at(from_position)\n",
        "    for row_index in range(8):\n",
        "      row = self.board[row_index]\n",
        "      if row_index == self.row_for(from_position):\n",
        "        board_def.append(self.replace_at(row, self.i_for(from_position), ' '))\n",
        "      elif row_index == self.row_for(to_position):\n",
        "        board_def.append(self.replace_at(row, self.i_for(to_position), piece))\n",
        "      else:\n",
        "        board_def.append(row)\n",
        "    return CurrentBoard(board_def)\n",
        "\n",
        "  def replace_at(self, row_as_string, index, character):\n",
        "    return row_as_string[:index] + character + row_as_string[index+1:]\n",
        "\n",
        "  def construct_boards_for(self, from_position, to_position_list):\n",
        "    boards = []\n",
        "    piece = self.get_piece_at(from_position)\n",
        "\n",
        "    for new_position in to_position_list:\n",
        "      if self.get_piece_at(new_position) == \" \":\n",
        "        boards.append(self.move_piece_to(from_position, new_position))\n",
        "    return boards"
      ],
      "execution_count": 16,
      "outputs": []
    },
    {
      "cell_type": "code",
      "metadata": {
        "id": "LV8tqF9DH0JY"
      },
      "source": [
        "q = CurrentBoard()"
      ],
      "execution_count": 2,
      "outputs": []
    },
    {
      "cell_type": "code",
      "metadata": {
        "colab": {
          "base_uri": "https://localhost:8080/"
        },
        "id": "ZKsmWus-KlKn",
        "outputId": "47291e17-38e2-43b7-c6de-7920fb928cb9"
      },
      "source": [
        "q.display_board()"
      ],
      "execution_count": 10,
      "outputs": [
        {
          "output_type": "stream",
          "text": [
            "-----------------\n",
            "| |w| |w| |w| |w|\n",
            "-----------------\n",
            "|w| |w| |w| |w| |\n",
            "-----------------\n",
            "| |w| |w| |w| |w|\n",
            "-----------------\n",
            "| | | | | | | | |\n",
            "-----------------\n",
            "| | | | | | | | |\n",
            "-----------------\n",
            "|b| |b| |b| |b| |\n",
            "-----------------\n",
            "| |b| |b| |b| |b|\n",
            "-----------------\n",
            "|b| |b| |b| |b| |\n",
            "-----------------\n"
          ],
          "name": "stdout"
        }
      ]
    },
    {
      "cell_type": "code",
      "metadata": {
        "colab": {
          "base_uri": "https://localhost:8080/"
        },
        "id": "gdRwyWyDOaYo",
        "outputId": "b3f96c73-5c2e-4634-9a2e-906c07bf6f57"
      },
      "source": [
        "q.all_possible_moves_for_position((2,2),0)"
      ],
      "execution_count": 4,
      "outputs": [
        {
          "output_type": "execute_result",
          "data": {
            "text/plain": [
              "[(1, 2), (1, 3), (3, 2), (3, 3)]"
            ]
          },
          "metadata": {
            "tags": []
          },
          "execution_count": 4
        }
      ]
    },
    {
      "cell_type": "code",
      "metadata": {
        "id": "ZPrPqwyRa2rh"
      },
      "source": [
        "moves = q.all_possible_moves_for('b')"
      ],
      "execution_count": 5,
      "outputs": []
    },
    {
      "cell_type": "code",
      "metadata": {
        "colab": {
          "base_uri": "https://localhost:8080/"
        },
        "id": "bzYjuNwh_Zzl",
        "outputId": "dcf7193a-4d62-4909-f2bb-82f284c62509"
      },
      "source": [
        "moves"
      ],
      "execution_count": 6,
      "outputs": [
        {
          "output_type": "execute_result",
          "data": {
            "text/plain": [
              "[<__main__.CurrentBoard at 0x7f99c5cc07d0>,\n",
              " <__main__.CurrentBoard at 0x7f99c5cc0a50>,\n",
              " <__main__.CurrentBoard at 0x7f99c5cc0290>,\n",
              " <__main__.CurrentBoard at 0x7f99c5cc0990>,\n",
              " <__main__.CurrentBoard at 0x7f99c5cc0ad0>,\n",
              " <__main__.CurrentBoard at 0x7f99c5cc0550>,\n",
              " <__main__.CurrentBoard at 0x7f99c5cc0090>]"
            ]
          },
          "metadata": {
            "tags": []
          },
          "execution_count": 6
        }
      ]
    },
    {
      "cell_type": "code",
      "metadata": {
        "id": "LPeTH06objQa",
        "colab": {
          "base_uri": "https://localhost:8080/"
        },
        "outputId": "50bd7f06-9262-41ad-f15a-ebfadac07ebb"
      },
      "source": [
        "q.jump_to((2,0),(3,1))"
      ],
      "execution_count": 9,
      "outputs": [
        {
          "output_type": "execute_result",
          "data": {
            "text/plain": [
              "(4, 1)"
            ]
          },
          "metadata": {
            "tags": []
          },
          "execution_count": 9
        }
      ]
    },
    {
      "cell_type": "code",
      "metadata": {
        "id": "sWJ_8vAEIGl9"
      },
      "source": [
        "class Search_Tree_Node:\n",
        "  def __init__(self, game , playing_char, ply = 0):\n",
        "    self.children =[]\n",
        "    self.ply_depth = ply\n",
        "    self.value_is_assigned = False\n",
        "    self.value = 999\n",
        "    self.board_for_node = game\n",
        "    self.playing = playing_char\n",
        "    if self.board_for_node.state == \"U\":\n",
        "      self.generate_children()\n",
        "    else:\n",
        "      if self.board_for_node.state == \"D\":\n",
        "        self.value = 0\n",
        "      else: \n",
        "        if (self.ply_depth % 2) ==0:\n",
        "          self.value = -1\n",
        "        else:\n",
        "          self.value = 1\n",
        "      self.value_is_assigned = True\n",
        "      \n",
        "\n",
        "\n",
        "\n",
        "  def max_min_value(self):\n",
        "    # if no value is assigned we will assign the max(or min) of the value of the children\n",
        "\n",
        "    if  self.value_is_assigned:\n",
        "        return self.value\n",
        "\n",
        "    else: \n",
        "      self.children = sorted(self.children, key= lambda x: x.max_min_value() )\n",
        "\n",
        "      if (self.ply_depth % 2) == 0:\n",
        "        self.value = self.children[-1].value\n",
        "      else:\n",
        "        self.value = self.children[0].value\n",
        "    return self.value\n",
        "\n",
        "\n",
        "  def other_char(self,current):\n",
        "    if current == \"X\":\n",
        "      return \"O\"\n",
        "    if current == \"O\":\n",
        "      return \"X\"\n",
        "    return \" \"\n",
        "\n",
        "  def generate_children(self):\n",
        "    for next_move in self.board_for_node.all_possible_moves_for(self.playing):\n",
        "      self.children.append(Search_Tree_Node(next_move, self.other_char(self.playing), self.ply_depth + 1))\n",
        "\n"
      ],
      "execution_count": 17,
      "outputs": []
    },
    {
      "cell_type": "code",
      "metadata": {
        "id": "Jz8KAmWPIToP",
        "colab": {
          "base_uri": "https://localhost:8080/",
          "height": 279
        },
        "outputId": "15db7cde-ca37-4c75-f428-4dc0827879ee"
      },
      "source": [
        "s = Search_Tree_Node(CurrentBoard(),\"X\")"
      ],
      "execution_count": 18,
      "outputs": [
        {
          "output_type": "error",
          "ename": "AttributeError",
          "evalue": "ignored",
          "traceback": [
            "\u001b[0;31m---------------------------------------------------------------------------\u001b[0m",
            "\u001b[0;31mAttributeError\u001b[0m                            Traceback (most recent call last)",
            "\u001b[0;32m<ipython-input-18-b9bbd2260365>\u001b[0m in \u001b[0;36m<module>\u001b[0;34m()\u001b[0m\n\u001b[0;32m----> 1\u001b[0;31m \u001b[0ms\u001b[0m \u001b[0;34m=\u001b[0m \u001b[0mSearch_Tree_Node\u001b[0m\u001b[0;34m(\u001b[0m\u001b[0mCurrentBoard\u001b[0m\u001b[0;34m(\u001b[0m\u001b[0;34m)\u001b[0m\u001b[0;34m,\u001b[0m\u001b[0;34m\"X\"\u001b[0m\u001b[0;34m)\u001b[0m\u001b[0;34m\u001b[0m\u001b[0;34m\u001b[0m\u001b[0m\n\u001b[0m",
            "\u001b[0;32m<ipython-input-17-9554aa2e1277>\u001b[0m in \u001b[0;36m__init__\u001b[0;34m(self, game, playing_char, ply)\u001b[0m\n\u001b[1;32m      7\u001b[0m     \u001b[0mself\u001b[0m\u001b[0;34m.\u001b[0m\u001b[0mboard_for_node\u001b[0m \u001b[0;34m=\u001b[0m \u001b[0mgame\u001b[0m\u001b[0;34m\u001b[0m\u001b[0;34m\u001b[0m\u001b[0m\n\u001b[1;32m      8\u001b[0m     \u001b[0mself\u001b[0m\u001b[0;34m.\u001b[0m\u001b[0mplaying\u001b[0m \u001b[0;34m=\u001b[0m \u001b[0mplaying_char\u001b[0m\u001b[0;34m\u001b[0m\u001b[0;34m\u001b[0m\u001b[0m\n\u001b[0;32m----> 9\u001b[0;31m     \u001b[0;32mif\u001b[0m \u001b[0mself\u001b[0m\u001b[0;34m.\u001b[0m\u001b[0mboard_for_node\u001b[0m\u001b[0;34m.\u001b[0m\u001b[0mstate\u001b[0m \u001b[0;34m==\u001b[0m \u001b[0;34m\"U\"\u001b[0m\u001b[0;34m:\u001b[0m\u001b[0;34m\u001b[0m\u001b[0;34m\u001b[0m\u001b[0m\n\u001b[0m\u001b[1;32m     10\u001b[0m       \u001b[0mself\u001b[0m\u001b[0;34m.\u001b[0m\u001b[0mgenerate_children\u001b[0m\u001b[0;34m(\u001b[0m\u001b[0;34m)\u001b[0m\u001b[0;34m\u001b[0m\u001b[0;34m\u001b[0m\u001b[0m\n\u001b[1;32m     11\u001b[0m     \u001b[0;32melse\u001b[0m\u001b[0;34m:\u001b[0m\u001b[0;34m\u001b[0m\u001b[0;34m\u001b[0m\u001b[0m\n",
            "\u001b[0;31mAttributeError\u001b[0m: 'CurrentBoard' object has no attribute 'state'"
          ]
        }
      ]
    },
    {
      "cell_type": "code",
      "metadata": {
        "colab": {
          "base_uri": "https://localhost:8080/",
          "height": 162
        },
        "id": "W1gASoCcHuY0",
        "outputId": "9f232eda-0b3f-41f7-b33c-d066e7b393e2"
      },
      "source": [
        "s.max_min_value()"
      ],
      "execution_count": 19,
      "outputs": [
        {
          "output_type": "error",
          "ename": "NameError",
          "evalue": "ignored",
          "traceback": [
            "\u001b[0;31m---------------------------------------------------------------------------\u001b[0m",
            "\u001b[0;31mNameError\u001b[0m                                 Traceback (most recent call last)",
            "\u001b[0;32m<ipython-input-19-67dabdfe4cd0>\u001b[0m in \u001b[0;36m<module>\u001b[0;34m()\u001b[0m\n\u001b[0;32m----> 1\u001b[0;31m \u001b[0ms\u001b[0m\u001b[0;34m.\u001b[0m\u001b[0mmax_min_value\u001b[0m\u001b[0;34m(\u001b[0m\u001b[0;34m)\u001b[0m\u001b[0;34m\u001b[0m\u001b[0;34m\u001b[0m\u001b[0m\n\u001b[0m",
            "\u001b[0;31mNameError\u001b[0m: name 's' is not defined"
          ]
        }
      ]
    },
    {
      "cell_type": "code",
      "metadata": {
        "id": "j6bcBazwDJab"
      },
      "source": [
        "def run_game():\n",
        "  current_game = CurrentBoard()\n",
        "  #  Ask player do they want to move first?\n",
        "  choice = input(\"Do you want to go first y/n?\")\n",
        "  player_going_first = (choice == \"y\") or (choice == \"Y\")\n",
        "\n",
        "  player_this_turn = player_going_first\n",
        "\n",
        "\n",
        "  #  Do you want X or O?\n",
        "\n",
        "  choice = input(\"Do you want to play X's  y/n?\")\n",
        "  player_playing_X = (choice == \"y\") or (choice == \"Y\")\n",
        "  if player_playing_X:\n",
        "    player_playing = \"X\"\n",
        "    computer_playing = \"O\"\n",
        "  else:\n",
        "    player_playing = \"O\"\n",
        "    computer_playing = \"X\"\n",
        "  #  Loop\n",
        "  for i in range(9):\n",
        "\n",
        "   # Display Current board (for player input)  \n",
        "    current_game.display_board(game_display = True)\n",
        "    if player_this_turn:\n",
        "      print(\" \")\n",
        "      player_move = input(\"Choose your move --\")\n",
        "      index_of_player_move = int(player_move)\n",
        "\n",
        "\n",
        "      new_board_string = current_game.board[:index_of_player_move] + player_playing + current_game.board[index_of_player_move+1:]\n",
        "      current_game= CurrentBoard(new_board_string)\n",
        "    else:\n",
        "      print(\" \")\n",
        "      st = Search_Tree_Node(current_game,computer_playing)\n",
        "      print(st.max_min_value())\n",
        "      current_game =  st.children[-1].board_for_node\n",
        "\n",
        "    player_this_turn = not  player_this_turn\n",
        "\n",
        "    if current_game.state !=\"U\":\n",
        "      if current_game.state == \"D\":\n",
        "        print(\"I cant believe it you drew with me!!!\")\n",
        "      elif computer_playing == current_game.state:\n",
        "        print(\" I win too easy !!!\")\n",
        "      else:\n",
        "        print(\"The world is coming to an end!!!\")\n",
        "      current_game.display_board()\n",
        "      break\n",
        "   \n",
        "  \n"
      ],
      "execution_count": 20,
      "outputs": []
    },
    {
      "cell_type": "code",
      "metadata": {
        "colab": {
          "base_uri": "https://localhost:8080/",
          "height": 313
        },
        "id": "wrvBe_GVQOsH",
        "outputId": "525b32a7-be06-434c-bbef-db3a244046e3"
      },
      "source": [
        "run_game()"
      ],
      "execution_count": 21,
      "outputs": [
        {
          "output_type": "stream",
          "text": [
            "Do you want to go first y/n?y\n",
            "Do you want to play X's  y/n?y\n"
          ],
          "name": "stdout"
        },
        {
          "output_type": "error",
          "ename": "TypeError",
          "evalue": "ignored",
          "traceback": [
            "\u001b[0;31m---------------------------------------------------------------------------\u001b[0m",
            "\u001b[0;31mTypeError\u001b[0m                                 Traceback (most recent call last)",
            "\u001b[0;32m<ipython-input-21-901c44b21ed3>\u001b[0m in \u001b[0;36m<module>\u001b[0;34m()\u001b[0m\n\u001b[0;32m----> 1\u001b[0;31m \u001b[0mrun_game\u001b[0m\u001b[0;34m(\u001b[0m\u001b[0;34m)\u001b[0m\u001b[0;34m\u001b[0m\u001b[0;34m\u001b[0m\u001b[0m\n\u001b[0m",
            "\u001b[0;32m<ipython-input-20-91e8c3fe1d50>\u001b[0m in \u001b[0;36mrun_game\u001b[0;34m()\u001b[0m\n\u001b[1;32m     22\u001b[0m \u001b[0;34m\u001b[0m\u001b[0m\n\u001b[1;32m     23\u001b[0m    \u001b[0;31m# Display Current board (for player input)\u001b[0m\u001b[0;34m\u001b[0m\u001b[0;34m\u001b[0m\u001b[0;34m\u001b[0m\u001b[0m\n\u001b[0;32m---> 24\u001b[0;31m     \u001b[0mcurrent_game\u001b[0m\u001b[0;34m.\u001b[0m\u001b[0mdisplay_board\u001b[0m\u001b[0;34m(\u001b[0m\u001b[0mgame_display\u001b[0m \u001b[0;34m=\u001b[0m \u001b[0;32mTrue\u001b[0m\u001b[0;34m)\u001b[0m\u001b[0;34m\u001b[0m\u001b[0;34m\u001b[0m\u001b[0m\n\u001b[0m\u001b[1;32m     25\u001b[0m     \u001b[0;32mif\u001b[0m \u001b[0mplayer_this_turn\u001b[0m\u001b[0;34m:\u001b[0m\u001b[0;34m\u001b[0m\u001b[0;34m\u001b[0m\u001b[0m\n\u001b[1;32m     26\u001b[0m       \u001b[0mprint\u001b[0m\u001b[0;34m(\u001b[0m\u001b[0;34m\" \"\u001b[0m\u001b[0;34m)\u001b[0m\u001b[0;34m\u001b[0m\u001b[0;34m\u001b[0m\u001b[0m\n",
            "\u001b[0;31mTypeError\u001b[0m: display_board() got an unexpected keyword argument 'game_display'"
          ]
        }
      ]
    }
  ]
}